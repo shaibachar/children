{
 "cells": [
  {
   "cell_type": "code",
   "execution_count": 3,
   "metadata": {},
   "outputs": [],
   "source": [
    "# # חפיפת משולשים\n",
    "\n",
    "# ## הקדמה\n",
    "# חפיפת משולשים היא מצב שבו שני משולשים זהים בגודלם ובצורתם, כך שאפשר להניח אחד על השני ולהתאים כל צלע וכל זווית.\n",
    "\n",
    "# ## משפטי חפיפה\n",
    "# קיימים מספר משפטים המגדירים מתי שני משולשים חופפים. נלמד על המשפטים הבאים:\n",
    "# 1. צ.צ.צ (צלע-צלע-צלע)\n",
    "# 2. צ.ז.צ (צלע-זווית-צלע)\n",
    "# 3. ז.צ.ז (זווית-צלע-זווית)\n",
    "# 4. צ.צ.ז (צלע-צלע-זווית ישרה)\n",
    "\n",
    "# ### משפט חפיפה צ.צ.צ\n",
    "# אם שלוש הצלעות של משולש אחד שוות לשלוש הצלעות של משולש שני, אז המשולשים חופפים.\n",
    "\n",
    "# דוגמה:\n",
    "# נניח שיש לנו שני משולשים ABC ו-DEF עם הצלעות הבאות:\n",
    "# AB = DE, BC = EF, AC = DF\n",
    "# המשולשים חופפים לפי משפט צ.צ.צ.\n",
    "\n",
    "# ### משפט חפיפה צ.ז.צ\n",
    "# אם שתי צלעות והזווית הכלואה ביניהן במשולש אחד שוות לשתי צלעות והזווית הכלואה ביניהן במשולש שני, אז המשולשים חופפים.\n",
    "\n",
    "# דוגמה:\n",
    "# נניח שיש לנו שני משולשים ABC ו-DEF עם הצלעות והזוויות הבאות:\n",
    "# AB = DE, AC = DF, זווית BAC = זווית EDF\n",
    "# המשולשים חופפים לפי משפט צ.ז.צ.\n",
    "\n",
    "# ### משפט חפיפה ז.צ.ז\n",
    "# אם שתי זוויות והצלע שביניהן במשולש אחד שוות לשתי זוויות והצלע שביניהן במשולש שני, אז המשולשים חופפים.\n",
    "\n",
    "# דוגמה:\n",
    "# נניח שיש לנו שני משולשים ABC ו-DEF עם הצלעות והזוויות הבאות:\n",
    "# זווית BAC = זווית EDF, זווית ABC = זווית DEF, AC = DF\n",
    "# המשולשים חופפים לפי משפט ז.צ.ז.\n",
    "\n",
    "# ### משפט חפיפה צ.צ.ז\n",
    "# אם יש לנו שתי צלעות והזווית הנכונה שביניהן במשולש אחד השוות לשתי צלעות והזווית הנכונה שביניהן במשולש שני, אז המשולשים חופפים.\n",
    "\n",
    "# דוגמה:\n",
    "# נניח שיש לנו שני משולשים ישרי זווית ABC ו-DEF עם הצלעות והזוויות הבאות:\n",
    "# AB = DE, BC = EF, זווית ABC = זווית DEF = 90°\n",
    "# המשולשים חופפים לפי משפט צ.צ.ז.\n"
   ]
  },
  {
   "cell_type": "code",
   "execution_count": 10,
   "metadata": {},
   "outputs": [
    {
     "data": {
      "application/vnd.jupyter.widget-view+json": {
       "model_id": "3ccdc0ff62fa4a3e930aa36e1ac9b49b",
       "version_major": 2,
       "version_minor": 0
      },
      "text/plain": [
       "VBox(children=(FloatSlider(value=5.0, description='צלע a:', max=10.0, min=1.0), FloatSlider(value=6.0, descrip…"
      ]
     },
     "metadata": {},
     "output_type": "display_data"
    },
    {
     "data": {
      "application/vnd.jupyter.widget-view+json": {
       "model_id": "4339a91f9d494c0e92024ab66614c905",
       "version_major": 2,
       "version_minor": 0
      },
      "text/plain": [
       "Output()"
      ]
     },
     "metadata": {},
     "output_type": "display_data"
    }
   ],
   "source": [
    "import matplotlib.pyplot as plt\n",
    "import numpy as np\n",
    "import ipywidgets as widgets\n",
    "from IPython.display import display\n",
    "\n",
    "# Function to draw triangle based on user inputs\n",
    "def plot_triangle(ax, vertices, label, offset=0):\n",
    "    triangle = plt.Polygon(vertices + [offset, 0], fill=None, edgecolor='b')\n",
    "    ax.add_patch(triangle)\n",
    "    for i, txt in enumerate(label):\n",
    "        ax.annotate(txt, (vertices[i][0] + offset, vertices[i][1]), textcoords=\"offset points\", xytext=(0,10), ha='center')\n",
    "\n",
    "def update_plot(a, b, c, alpha, beta, gamma, operation):\n",
    "    fig, ax = plt.subplots()\n",
    "    ax.set_xlim(0, max(a, b, c) * 2 + 4)\n",
    "    ax.set_ylim(0, max(a, b, c) + 2)\n",
    "    \n",
    "    # Calculate coordinates of the vertices based on the given sides and angles\n",
    "    A = np.array([a * np.cos(np.radians(alpha)), a * np.sin(np.radians(alpha))])\n",
    "    B = np.array([b * np.cos(np.radians(beta)), b * np.sin(np.radians(beta))])\n",
    "    C = np.array([c * np.cos(np.radians(gamma)), c * np.sin(np.radians(gamma))])\n",
    "    \n",
    "    vertices_abc = np.array([A, B, C])\n",
    "    plot_triangle(ax, vertices_abc, ['A', 'B', 'C'])\n",
    "    \n",
    "    # Second triangle with the same sides and angles, shifted to the right\n",
    "    F = np.array([a * np.cos(np.radians(alpha)), a * np.sin(np.radians(alpha))])\n",
    "    D = np.array([b * np.cos(np.radians(beta)), b * np.sin(np.radians(beta))])\n",
    "    E = np.array([c * np.cos(np.radians(gamma)), c * np.sin(np.radians(gamma))])\n",
    "    vertices_def = np.array([D, E, F])\n",
    "    plot_triangle(ax, vertices_def, ['D', 'E', 'F'], offset=max(a, b, c) + 2)\n",
    "    \n",
    "    if operation == 'צ.ז.צ':\n",
    "        plt.title('משפט חפיפה צ.ז.צ')\n",
    "    \n",
    "    plt.grid(True)\n",
    "    plt.show()\n",
    "\n",
    "# Widgets for user input\n",
    "a_slider = widgets.FloatSlider(value=5, min=1, max=10, step=0.1, description='צלע a:')\n",
    "b_slider = widgets.FloatSlider(value=6, min=1, max=10, step=0.1, description='צלע b:')\n",
    "c_slider = widgets.FloatSlider(value=7, min=1, max=10, step=0.1, description='צלע c:')\n",
    "alpha_slider = widgets.FloatSlider(value=60, min=1, max=179, step=1, description='זווית α:')\n",
    "beta_slider = widgets.FloatSlider(value=50, min=1, max=179, step=1, description='זווית β:')\n",
    "gamma_slider = widgets.FloatSlider(value=70, min=1, max=179, step=1, description='זווית γ:')\n",
    "operation_selector = widgets.RadioButtons(\n",
    "    options=['צ.צ.צ', 'צ.ז.צ', 'ז.צ.ז', 'צ.צ.ז'],\n",
    "    description='משפט חפיפה:',\n",
    "    disabled=False\n",
    ")\n",
    "\n",
    "# Interactive function\n",
    "ui = widgets.VBox([a_slider, b_slider, c_slider, alpha_slider, beta_slider, gamma_slider, operation_selector])\n",
    "out = widgets.interactive_output(update_plot, {'a': a_slider, 'b': b_slider, 'c': c_slider, 'alpha': alpha_slider, 'beta': beta_slider, 'gamma': gamma_slider, 'operation': operation_selector})\n",
    "\n",
    "display(ui, out)\n"
   ]
  },
  {
   "cell_type": "code",
   "execution_count": 11,
   "metadata": {},
   "outputs": [
    {
     "data": {
      "application/vnd.jupyter.widget-view+json": {
       "model_id": "9c9698c8df6a4907bf9748a7dc921146",
       "version_major": 2,
       "version_minor": 0
      },
      "text/plain": [
       "VBox(children=(HBox(children=(FloatSlider(value=5.0, description='צלע a1:', max=10.0, min=1.0), FloatSlider(va…"
      ]
     },
     "metadata": {},
     "output_type": "display_data"
    },
    {
     "data": {
      "application/vnd.jupyter.widget-view+json": {
       "model_id": "7e2efc57c4d744068f276fea782145e7",
       "version_major": 2,
       "version_minor": 0
      },
      "text/plain": [
       "Output()"
      ]
     },
     "metadata": {},
     "output_type": "display_data"
    }
   ],
   "source": [
    "import matplotlib.pyplot as plt\n",
    "import numpy as np\n",
    "import ipywidgets as widgets\n",
    "from IPython.display import display\n",
    "\n",
    "# Function to draw triangle based on user inputs\n",
    "def plot_triangle(ax, vertices, label, offset=0, color='b'):\n",
    "    triangle = plt.Polygon(vertices + [offset, 0], fill=None, edgecolor=color)\n",
    "    ax.add_patch(triangle)\n",
    "    for i, txt in enumerate(label):\n",
    "        ax.annotate(txt, (vertices[i][0] + offset, vertices[i][1]), textcoords=\"offset points\", xytext=(0,10), ha='center')\n",
    "\n",
    "# Function to check for triangle congruence\n",
    "def check_congruence(vertices1, vertices2):\n",
    "    # Check SSS (Side-Side-Side)\n",
    "    sides1 = sorted([np.linalg.norm(vertices1[i] - vertices1[(i+1)%3]) for i in range(3)])\n",
    "    sides2 = sorted([np.linalg.norm(vertices2[i] - vertices2[(i+1)%3]) for i in range(3)])\n",
    "    if np.allclose(sides1, sides2):\n",
    "        return 'משפט חפיפה צ.צ.צ'\n",
    "    \n",
    "    # Check SAS (Side-Angle-Side)\n",
    "    angles1 = sorted([np.arccos(np.dot(vertices1[(i+1)%3] - vertices1[i], vertices1[(i+2)%3] - vertices1[i]) / \n",
    "                                (np.linalg.norm(vertices1[(i+1)%3] - vertices1[i]) * np.linalg.norm(vertices1[(i+2)%3] - vertices1[i]))) \n",
    "                      for i in range(3)])\n",
    "    angles2 = sorted([np.arccos(np.dot(vertices2[(i+1)%3] - vertices2[i], vertices2[(i+2)%3] - vertices2[i]) / \n",
    "                                (np.linalg.norm(vertices2[(i+1)%3] - vertices2[i]) * np.linalg.norm(vertices2[(i+2)%3] - vertices2[i]))) \n",
    "                      for i in range(3)])\n",
    "    if np.allclose(sides1, sides2) and np.allclose(angles1, angles2):\n",
    "        return 'משפט חפיפה צ.ז.צ'\n",
    "    \n",
    "    # Check ASA (Angle-Side-Angle)\n",
    "    if np.allclose(angles1, angles2) and np.allclose(sides1[0], sides2[0]):\n",
    "        return 'משפט חפיפה ז.צ.ז'\n",
    "    \n",
    "    # Check RHS (Right angle-Hypotenuse-Side)\n",
    "    if 90 in np.degrees(angles1) and np.allclose(sides1, sides2):\n",
    "        return 'משפט חפיפה צ.צ.ז'\n",
    "    \n",
    "    return None\n",
    "\n",
    "def update_plot(a1, b1, c1, alpha1, beta1, gamma1, a2, b2, c2, alpha2, beta2, gamma2):\n",
    "    fig, ax = plt.subplots()\n",
    "    ax.set_xlim(0, max(a1, b1, c1, a2, b2, c2) * 2 + 4)\n",
    "    ax.set_ylim(0, max(a1, b1, c1, a2, b2, c2) + 2)\n",
    "    \n",
    "    # Calculate coordinates of the vertices based on the given sides and angles for the first triangle\n",
    "    A1 = np.array([0, 0])\n",
    "    B1 = np.array([a1, 0])\n",
    "    C1 = np.array([b1 * np.cos(np.radians(alpha1)), b1 * np.sin(np.radians(alpha1))])\n",
    "    vertices_abc = np.array([A1, B1, C1])\n",
    "    \n",
    "    # Calculate coordinates of the vertices based on the given sides and angles for the second triangle\n",
    "    A2 = np.array([0, 0])\n",
    "    B2 = np.array([a2, 0])\n",
    "    C2 = np.array([b2 * np.cos(np.radians(alpha2)), b2 * np.sin(np.radians(alpha2))])\n",
    "    vertices_def = np.array([A2, B2, C2])\n",
    "    \n",
    "    congruence = check_congruence(vertices_abc, vertices_def)\n",
    "    color = 'r' if congruence else 'b'\n",
    "    \n",
    "    plot_triangle(ax, vertices_abc, ['A', 'B', 'C'], color=color)\n",
    "    plot_triangle(ax, vertices_def, ['D', 'E', 'F'], offset=max(a1, b1, c1) + 2, color=color)\n",
    "    \n",
    "    title = congruence if congruence else 'המשולשים אינם חופפים'\n",
    "    plt.title(title, fontsize=14, fontweight='bold' if congruence else 'normal')\n",
    "    \n",
    "    plt.grid(True)\n",
    "    plt.show()\n",
    "\n",
    "# Widgets for user input\n",
    "a1_slider = widgets.FloatSlider(value=5, min=1, max=10, step=0.1, description='צלע a1:')\n",
    "b1_slider = widgets.FloatSlider(value=6, min=1, max=10, step=0.1, description='צלע b1:')\n",
    "c1_slider = widgets.FloatSlider(value=7, min=1, max=10, step=0.1, description='צלע c1:')\n",
    "alpha1_slider = widgets.FloatSlider(value=60, min=1, max=179, step=1, description='זווית α1:')\n",
    "beta1_slider = widgets.FloatSlider(value=50, min=1, max=179, step=1, description='זווית β1:')\n",
    "gamma1_slider = widgets.FloatSlider(value=70, min=1, max=179, step=1, description='זווית γ1:')\n",
    "\n",
    "a2_slider = widgets.FloatSlider(value=5, min=1, max=10, step=0.1, description='צלע a2:')\n",
    "b2_slider = widgets.FloatSlider(value=6, min=1, max=10, step=0.1, description='צלע b2:')\n",
    "c2_slider = widgets.FloatSlider(value=7, min=1, max=10, step=0.1, description='צלע c2:')\n",
    "alpha2_slider = widgets.FloatSlider(value=60, min=1, max=179, step=1, description='זווית α2:')\n",
    "beta2_slider = widgets.FloatSlider(value=50, min=1, max=179, step=1, description='זווית β2:')\n",
    "gamma2_slider = widgets.FloatSlider(value=70, min=1, max=179, step=1, description='זווית γ2:')\n",
    "\n",
    "# Interactive function\n",
    "ui = widgets.VBox([widgets.HBox([a1_slider, b1_slider, c1_slider, alpha1_slider, beta1_slider, gamma1_slider]),\n",
    "                   widgets.HBox([a2_slider, b2_slider, c2_slider, alpha2_slider, beta2_slider, gamma2_slider])])\n",
    "out = widgets.interactive_output(update_plot, {'a1': a1_slider, 'b1': b1_slider, 'c1': c1_slider, 'alpha1': alpha1_slider, 'beta1': beta1_slider, 'gamma1': gamma1_slider, 'a2': a2_slider, 'b2': b2_slider, 'c2': c2_slider, 'alpha2': alpha2_slider, 'beta2': beta2_slider, 'gamma2': gamma2_slider})\n",
    "\n",
    "display(ui, out)\n"
   ]
  }
 ],
 "metadata": {
  "kernelspec": {
   "display_name": "venv",
   "language": "python",
   "name": "python3"
  },
  "language_info": {
   "codemirror_mode": {
    "name": "ipython",
    "version": 3
   },
   "file_extension": ".py",
   "mimetype": "text/x-python",
   "name": "python",
   "nbconvert_exporter": "python",
   "pygments_lexer": "ipython3",
   "version": "3.12.3"
  }
 },
 "nbformat": 4,
 "nbformat_minor": 2
}
