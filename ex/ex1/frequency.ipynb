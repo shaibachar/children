{
 "cells": [
  {
   "cell_type": "code",
   "execution_count": 21,
   "metadata": {},
   "outputs": [],
   "source": [
    "import numpy as np\n",
    "import matplotlib.pyplot as plt\n",
    "import pandas as pd"
   ]
  },
  {
   "cell_type": "markdown",
   "metadata": {},
   "source": [
    "# יצירת נתונים לדוגמה"
   ]
  },
  {
   "cell_type": "code",
   "execution_count": 22,
   "metadata": {},
   "outputs": [],
   "source": [
    "\n",
    "np.random.seed(0)  # למען שחזור\n",
    "data = np.random.choice(['A', 'B', 'C', 'D', 'E'], size=100, p=[0.1, 0.2, 0.4, 0.2, 0.1])"
   ]
  },
  {
   "cell_type": "markdown",
   "metadata": {},
   "source": [
    "# חישוב שכיחות ושכיחות יחסית"
   ]
  },
  {
   "cell_type": "code",
   "execution_count": 23,
   "metadata": {},
   "outputs": [],
   "source": [
    "frequency = pd.Series(data).value_counts()\n",
    "relative_frequency = pd.Series(data).value_counts(normalize=True)"
   ]
  },
  {
   "cell_type": "code",
   "execution_count": 24,
   "metadata": {},
   "outputs": [
    {
     "data": {
      "text/plain": [
       "C    43\n",
       "B    22\n",
       "D    14\n",
       "A    12\n",
       "E     9\n",
       "Name: count, dtype: int64"
      ]
     },
     "execution_count": 24,
     "metadata": {},
     "output_type": "execute_result"
    }
   ],
   "source": [
    "frequency"
   ]
  },
  {
   "cell_type": "code",
   "execution_count": 25,
   "metadata": {},
   "outputs": [
    {
     "data": {
      "text/plain": [
       "C    0.43\n",
       "B    0.22\n",
       "D    0.14\n",
       "A    0.12\n",
       "E    0.09\n",
       "Name: proportion, dtype: float64"
      ]
     },
     "execution_count": 25,
     "metadata": {},
     "output_type": "execute_result"
    }
   ],
   "source": [
    "relative_frequency"
   ]
  },
  {
   "cell_type": "markdown",
   "metadata": {},
   "source": [
    "# יצירת גרף של שכיחות\n",
    "# יצירת גרף של שכיחות יחסית"
   ]
  },
  {
   "cell_type": "code",
   "execution_count": 26,
   "metadata": {},
   "outputs": [
    {
     "data": {
      "image/png": "[encoded data removed]",
      "text/plain": [
       "<Figure size 1200x600 with 2 Axes>"
      ]
     },
     "metadata": {},
     "output_type": "display_data"
    }
   ],
   "source": [
    "plt.figure(figsize=(12, 6))\n",
    "\n",
    "plt.subplot(1, 2, 1)\n",
    "frequency.plot(kind='bar', color='skyblue', alpha=0.7)\n",
    "plt.title('שכיחות')\n",
    "plt.xlabel('קטגוריות')\n",
    "plt.ylabel('שכיחות')\n",
    "plt.xticks(rotation=0)\n",
    "\n",
    "plt.subplot(1, 2, 2)\n",
    "relative_frequency.plot(kind='bar', color='orange', alpha=0.7)\n",
    "plt.title('שכיחות יחסית')\n",
    "plt.xlabel('קטגוריות')\n",
    "plt.ylabel('שכיחות יחסית')\n",
    "plt.xticks(rotation=0)\n",
    "\n",
    "# הצגת הגרפים\n",
    "plt.tight_layout()\n",
    "plt.show()"
   ]
  },
  {
   "cell_type": "code",
   "execution_count": 27,
   "metadata": {},
   "outputs": [
    {
     "name": "stdout",
     "output_type": "stream",
     "text": [
      "\n",
      "שכיחות ושכיחות יחסית:\n",
      "שכיחות (Frequency) מתייחסת למספר הפעמים שכל קטגוריה מופיעה בנתונים.\n",
      "שכיחות יחסית (Relative Frequency) מתייחסת לחלק היחסי של כל קטגוריה מתוך כלל הנתונים, והיא מחושבת באמצעות חלוקת השכיחות במספר הכולל של הנתונים.\n",
      "\n",
      "בגרף הראשון מוצגת השכיחות של כל קטגוריה - A, B, C, D, E.\n",
      "בגרף השני מוצגת השכיחות היחסית של כל קטגוריה, כלומר החלק היחסי שלה מתוך כלל 100 הנתונים.\n",
      "\n",
      "לדוגמה, אם הקטגוריה 'C' מופיעה 40 פעמים מתוך 100, השכיחות שלה היא 40 והשכיחות היחסית שלה היא 0.4 (או 40%).\n",
      "\n"
     ]
    }
   ],
   "source": [
    "# הסבר\n",
    "explanation = \"\"\"\n",
    "שכיחות ושכיחות יחסית:\n",
    "שכיחות (Frequency) מתייחסת למספר הפעמים שכל קטגוריה מופיעה בנתונים.\n",
    "שכיחות יחסית (Relative Frequency) מתייחסת לחלק היחסי של כל קטגוריה מתוך כלל הנתונים, והיא מחושבת באמצעות חלוקת השכיחות במספר הכולל של הנתונים.\n",
    "\n",
    "בגרף הראשון מוצגת השכיחות של כל קטגוריה - A, B, C, D, E.\n",
    "בגרף השני מוצגת השכיחות היחסית של כל קטגוריה, כלומר החלק היחסי שלה מתוך כלל 100 הנתונים.\n",
    "\n",
    "לדוגמה, אם הקטגוריה 'C' מופיעה 40 פעמים מתוך 100, השכיחות שלה היא 40 והשכיחות היחסית שלה היא 0.4 (או 40%).\n",
    "\"\"\"\n",
    "\n",
    "print(explanation)"
   ]
  }
 ],
 "metadata": {
  "kernelspec": {
   "display_name": "venv",
   "language": "python",
   "name": "python3"
  },
  "language_info": {
   "codemirror_mode": {
    "name": "ipython",
    "version": 3
   },
   "file_extension": ".py",
   "mimetype": "text/x-python",
   "name": "python",
   "nbconvert_exporter": "python",
   "pygments_lexer": "ipython3",
   "version": "3.8.10"
  }
 },
 "nbformat": 4,
 "nbformat_minor": 2
}
